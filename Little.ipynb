{
 "cells": [
  {
   "cell_type": "markdown",
   "metadata": {},
   "source": [
    "# Trackmania Project : Optimizing checkpoints order on E02"
   ]
  },
  {
   "cell_type": "markdown",
   "metadata": {},
   "source": [
    "## Le projet : \n",
    "_______\n",
    "\n",
    "Le but de notre projet était de répondre à la problématique : Quelle est la meilleure façon de parcourir les différents checkpoints d'un circuit pour le terminer le plsu rapidement possible ? \n",
    "\n",
    "Nous nous intéressons ici au cas particulier du circuit E02 du jeu vidéo TrackMania Nations Forever\n",
    "\n",
    "![alt text](hqdefault.jpg)\n",
    "\n",
    "___\n",
    "    \n",
    "Nous nous sommes intéressés à ce circuit en particulier puisque c'est le circuit possèdant les plus de voies alternatives et de checkpoints à valider de la série de jeu TrackMania.\n",
    "\n",
    "Pour le petit historique, plusieurs millions de joueurs essayent tant bien que mal d'inscrire leur temps dans le haut du classement de chaque circuit. De 2008 à 2019, le record de E02 n'a cessé de baisser jusqu'à atteindre les 3:48.59, record réalisé par Wirtual.\n",
    "\n",
    "Le niveau de jeu des joueurs experts étant assez homogène, les places dans le top 100 se jouent à quelques centièmes de secondes.\n",
    "\n",
    "Il y a de cela 10 mois, Wirtual bat son propre record du monde de plus de 14 secondes. \n",
    "Pour réaliser cet exploit, Wirtual a utilisé de noumbreux \"cuts\" (passage d'une partie à une autre du circuit, non prévu par les créateurs). Tous ces cuts étaient déjà largement connus parmis les meilleurs joueurs, mais il était assez compliqué de savoir si ils pouvaient ou non faire gagner du temps, et si oui dans quel ordre les prendre. \n",
    "Le nombre de cuts possibles étant trop élevé pour une recherche exhaustive, sans compter sur la difficulté de réalisation de certains d'entre eux, Wirtual décida de chronométrer tous les passages possibles et d'exprimer ce problème comme un problème de voyageur de commerce (Traveling Salesman Problem).\n",
    "\n",
    "> Le problème du voyageur de commerce, ou problème du commis voyageur, est un problème d'optimisation qui, étant donné une liste de villes, et des distances entre toutes les paires de villes, détermine un plus court chemin qui visite chaque ville une et une seule fois et qui termine dans la ville de départ. \n",
    "\n",
    "Ici, les villes constitueront les checkpoints et la distance sera définie comme le temps nécessaire pour aller d'un checkpoint à un autre. Nous pouvons noter qu'il s'agit d'un problème dit TSP asymétrique puisque il n'est pas toujours possible de faire la jonction entre deux checkpoints dans les deux sens.\n",
    "\n",
    "Notre objectif dans ce projet est donc d'essayer de réaliser la même étude, en s'appuyant sur différentes méthodes de résolution, à savoir : l'algorithme de Little (Branch and Bound) et une modélisation du problème sous forme de Programmation Linéaire en Nombres Entiers"
   ]
  },
  {
   "cell_type": "markdown",
   "metadata": {},
   "source": [
    "## L'avancement du projet\n",
    "____\n",
    "\n",
    "Nous avons décider d'organiser notre travail dans l'odre suivant : \n",
    "* **Obternir un version fonctionnelle avec l'algorithe de Little, sur l'exemple du polycopié**\n",
    "* **Réussir à importer nos données depuis un fichier csv pour faciliter l'importation des temps**\n",
    "* **Tester l'algorithme de Little sur un circuit de notre cru (Avec peu de checkpoints)**\n",
    "* **Obtenir une version fonctionnelle de la version PLNE (Miller-Tucker-Zemlin)**\n",
    "* Obtenir une version fonctionnelle de la version PLNE (Dantzig-Fulkerson-Johnson)\n",
    "* Récupérer les données de temps du circuit E02\n",
    "* Importer les données de temps du circuit E02\n",
    "* Comparer les temps d'éxécution et les résulats de nos différentes approches sur les données de E02\n",
    "* Comparaison générale des 3 approches\n",
    "* Optionnel : Test des algorithmes génétiques / fourmillière de résolution de TSP, même si la taille de notre problème ne s'y prête pas vraiment\n",
    "* Tentative de record du monde par Hugo\n",
    "\n",
    "Comme vous pourrez être amené à le voir ci-dessous, une majorité des étapes les plus difficiles a déja été réalisée. L'algorithme de Little et la formulation PLNE (M-T-Z) semblent parfaitement fonctionner sur les différents exemples que nous leur avons passés.\n",
    "\n",
    "Nous avons choisi l'approche \"dictionnaire\" plutôt que l'approche matricielle pour la description puLp du problème, puisque contrairement à un problème TSP plus \"classique\", une majorité des trajets ne peut pas être réalisé dans un temps raisonnable. Une modélisation matricielle aurait défini beaucoup de contraintes inutiles et complexifié notre problème.\n",
    "\n",
    "Finalement, nous allons passer les prochains jours à nous atteler à la modélisation (D-F_J) du modèle PLNE et à la comparaison de nos différentes méthodes.\n",
    "\n",
    "Le fait que la majorité des trajets ne soit pas possible semble \"diminuer la complexité\" de l'algorithme de Little et nous avons été agréablement surpris du peu de braches explorées pour la résolution de notre exemple jouet à 8 checkpoints. Alors que l'algorithme est censé exploser en complexité bien avant la marque des 26 villes, nous sommes pressés de voir si l'algorithme parviendra tout de même à trouver meilleur chemin\n",
    "\n",
    "Comme écrit dans la liste des tâches, nous essaierons également d'effectuer quelques tests d'algorithmes de résolution génétiques, bien que notre problème soit de taille assez faible pour être résolu de manière exacte en un temps convenable"
   ]
  },
  {
   "cell_type": "markdown",
   "metadata": {},
   "source": [
    "# Branch and Bound Algorithm (Little)"
   ]
  },
  {
   "cell_type": "markdown",
   "metadata": {},
   "source": [
    "## Dependencies"
   ]
  },
  {
   "cell_type": "code",
   "execution_count": 1,
   "metadata": {},
   "outputs": [],
   "source": [
    "import time\n",
    "import numpy as np\n",
    "from treelib import Node, Tree"
   ]
  },
  {
   "cell_type": "markdown",
   "metadata": {},
   "source": [
    "### Defining functions"
   ]
  },
  {
   "cell_type": "code",
   "execution_count": 2,
   "metadata": {},
   "outputs": [],
   "source": [
    "def matrixReduction(matrix):\n",
    "    red_matrix = np.copy(matrix)\n",
    "    n = red_matrix.shape[0]\n",
    "    evaluation = 0\n",
    "    \n",
    "    for j in range(n):\n",
    "        if(np.min(red_matrix[:,j])!= np.inf):\n",
    "            evaluation += np.min(red_matrix[:,j])\n",
    "            red_matrix[:,j] = red_matrix[:,j] - np.min(red_matrix[:,j])\n",
    "\n",
    "    for i in range(n):\n",
    "        if(np.min(red_matrix[i,:])!= np.inf):\n",
    "            evaluation += np.min(red_matrix[i,:])\n",
    "            red_matrix[i,:] = red_matrix[i,:] - np.min(red_matrix[i,:])\n",
    "            \n",
    "    return (red_matrix, evaluation) "
   ]
  },
  {
   "cell_type": "code",
   "execution_count": 3,
   "metadata": {},
   "outputs": [],
   "source": [
    "def calculerRegret(i,j, matrix):\n",
    "    mat_cout = np.copy(matrix)\n",
    "    mat_cout[i,j] = np.inf\n",
    "    cout = np.min(mat_cout[i,:])\n",
    "    cout += np.min(mat_cout[:,j])\n",
    "    return cout"
   ]
  },
  {
   "cell_type": "code",
   "execution_count": 4,
   "metadata": {},
   "outputs": [],
   "source": [
    "def visitNode(n, matrix, e, unavailable,parent_id):\n",
    "    \n",
    "    global maxi\n",
    "    global tree\n",
    "    global node_id\n",
    "    root = nodes[0]\n",
    "    s = tree.get_node(parent_id).tag #gets the name of the parent node\n",
    "    \n",
    "    #print('current:{} - e:{} -unavailable:{} -maxi:{}'.format(villes[n],e,unavailable,maxi))\n",
    "    #print(matrix)\n",
    "    \n",
    "    if(e<=maxi):\n",
    "        \n",
    "        if(n != 0 or s[:len(root)] == root): #check if the parent node is the root\n",
    "            \n",
    "            availableNodes = np.where(matrix[n,:]!=np.inf)[0]\n",
    "            regrets = {}\n",
    "            change = False\n",
    "            \n",
    "            for node in availableNodes:\n",
    "                if(node!=unavailable):\n",
    "                    regrets[node] = calculerRegret(n,node, matrix)\n",
    "                    change = True\n",
    "            \n",
    "            if(change):\n",
    "                \n",
    "                maxRegret = int(max(regrets, key=regrets.get)) #Retourne la clé de la valeur max\n",
    "                \n",
    "                new_matrix = np.copy(matrix)\n",
    "                new_matrix[n,:] = np.inf\n",
    "                new_matrix[:,maxRegret] = np.inf\n",
    "                new_matrix[maxRegret,n] = np.inf\n",
    "                new_matrix_2 = np.copy(matrix)\n",
    "                new_matrix_2[n,maxRegret] = np.inf\n",
    "                \n",
    "                (new_matrix, coutevaluation) = matrixReduction(new_matrix)\n",
    "                (new_matrix_2, coutevaluation2) = matrixReduction(new_matrix_2)\n",
    "                \n",
    "                localid = int(node_id)\n",
    "                #________V__________\n",
    "                e_v = e + coutevaluation\n",
    "                \n",
    "                #Créer l'arbre, les noeuds, tout ça\n",
    "                node_id += 1\n",
    "                tree.create_node(nodes[maxRegret]+' '+str(e_v), node_id, parent=localid, data=e_v)\n",
    "                                \n",
    "                visitNode(maxRegret,new_matrix,e_v,None,localid)\n",
    "                \n",
    "                #______Vbarre_______\n",
    "                e_v_barre = e + regrets[maxRegret]\n",
    "                node_id += 1\n",
    "                tree.create_node(nodes[n]+'!'+nodes[maxRegret]+' '+str(e_v_barre), node_id, parent=localid, data=e_v_barre)\n",
    "                          \n",
    "                visitNode(n,new_matrix_2, e_v_barre,None,localid)\n",
    "\n",
    "        else:\n",
    "            #print('Le maxi va changer : ni: {} - pi: {}'.format(node_id,parent_id))\n",
    "            maxi = min(maxi,e)\n",
    "            #print('Maxi : {}'.format(maxi),'\\n')"
   ]
  },
  {
   "cell_type": "code",
   "execution_count": 5,
   "metadata": {},
   "outputs": [],
   "source": [
    "#Fonction appelant l'algorithe de résolution de Little\n",
    "def Little(matrix, racine):\n",
    "    \n",
    "    global maxi\n",
    "    global tree\n",
    "    global node_id\n",
    "    localid = int(node_id)\n",
    "    \n",
    "    n=racine\n",
    "    (matrix, e) = matrixReduction(matrix)\n",
    "    unavailable = None #Réduire la matrice et calculer E\n",
    "    \n",
    "    tree.create_node(nodes[n], node_id)\n",
    "    \n",
    "    visitNode(n,matrix, e,None, localid) #Visiter la racine"
   ]
  },
  {
   "cell_type": "code",
   "execution_count": 6,
   "metadata": {},
   "outputs": [],
   "source": [
    "#Affichage du meilleur chemin\n",
    "def Path(tree):\n",
    "    \n",
    "    minimum = np.inf\n",
    "    min_node = None\n",
    "    for node in tree.all_nodes_itr():\n",
    "        if(node.tag[:len(nodes[0])]==nodes[0] and node.data != None and node.tag[len(nodes[0])]!=\"!\"):\n",
    "            if(node.data <= minimum):\n",
    "                minimum = node.data\n",
    "                min_node = node\n",
    "\n",
    "\n",
    "    depth = tree.depth(min_node)\n",
    "    node = min_node\n",
    "    path = [min_node.tag.split(' ')[0]]\n",
    "    #print('min node :', min_node)\n",
    "    \n",
    "    for i in range(depth):\n",
    "        node = tree.parent(node.identifier)\n",
    "        #print(node)\n",
    "        if(\"!\" not in node.tag):\n",
    "            path.append(node.tag.split(' ')[0])\n",
    "    path.reverse()\n",
    "    return path"
   ]
  },
  {
   "cell_type": "markdown",
   "metadata": {},
   "source": [
    "## Testing"
   ]
  },
  {
   "cell_type": "markdown",
   "metadata": {},
   "source": [
    "### >Textbook example"
   ]
  },
  {
   "cell_type": "code",
   "execution_count": 7,
   "metadata": {},
   "outputs": [],
   "source": [
    "maxi = np.inf\n",
    "costs = np.array([[maxi,780,320,580],\n",
    "                 [780,maxi,700,460],\n",
    "                 [320,700,maxi,380],\n",
    "                  [580,460,380,maxi]])\n",
    "nodes = ['Bordeaux','Lyon','Nantes','Paris']"
   ]
  },
  {
   "cell_type": "code",
   "execution_count": 8,
   "metadata": {},
   "outputs": [
    {
     "name": "stdout",
     "output_type": "stream",
     "text": [
      "Wall time: 3 ms\n"
     ]
    }
   ],
   "source": [
    "tree = Tree()\n",
    "node_id = 1\n",
    "\n",
    "%time Little(costs,0)"
   ]
  },
  {
   "cell_type": "code",
   "execution_count": 9,
   "metadata": {},
   "outputs": [
    {
     "data": {
      "text/plain": [
       "['Bordeaux', 'Lyon', 'Paris', 'Nantes', 'Bordeaux']"
      ]
     },
     "execution_count": 9,
     "metadata": {},
     "output_type": "execute_result"
    }
   ],
   "source": [
    "Path(tree)"
   ]
  },
  {
   "cell_type": "markdown",
   "metadata": {},
   "source": [
    "### >Toy example\n",
    "\n",
    "___\n",
    "\n",
    "<img src=\"toyexample2.jpg\" alt=\"drawing\" width=\"250\"/>"
   ]
  },
  {
   "cell_type": "code",
   "execution_count": 10,
   "metadata": {},
   "outputs": [],
   "source": [
    "costs = np.array([[maxi,10,maxi,maxi,maxi,maxi,maxi,maxi],\n",
    "                 [10,maxi,10,25,maxi,maxi,maxi,maxi],\n",
    "                 [maxi,10,maxi,15,5,7,maxi,maxi],\n",
    "                 [maxi,25,15,maxi,5,maxi,4,maxi],\n",
    "                 [maxi,maxi,5,5,maxi,15,20,maxi],\n",
    "                 [maxi,maxi,7,maxi,15,maxi,5,6],\n",
    "                 [maxi,maxi,maxi,4,20,5,maxi,10],\n",
    "                 [0,maxi,maxi,maxi,maxi,maxi,maxi,maxi]])\n",
    "nodes = [str(i+1) for i in range(8)]"
   ]
  },
  {
   "cell_type": "code",
   "execution_count": 11,
   "metadata": {},
   "outputs": [
    {
     "name": "stdout",
     "output_type": "stream",
     "text": [
      "Wall time: 4 ms\n"
     ]
    }
   ],
   "source": [
    "tree = Tree()\n",
    "node_id = 1\n",
    "\n",
    "%time Little(costs,0)"
   ]
  },
  {
   "cell_type": "code",
   "execution_count": 12,
   "metadata": {},
   "outputs": [
    {
     "name": "stdout",
     "output_type": "stream",
     "text": [
      "1\n",
      "├── 1!2 1978.0\n",
      "└── 2 44.0\n",
      "    ├── 2!3 60.0\n",
      "    └── 3 45.0\n",
      "        ├── 3!5 47.0\n",
      "        └── 5 45.0\n",
      "            ├── 4 45.0\n",
      "            │   ├── 4!7 1980.0\n",
      "            │   └── 7 45.0\n",
      "            │       ├── 6 45.0\n",
      "            │       │   ├── 6!8 3919.0\n",
      "            │       │   └── 8 45.0\n",
      "            │       │       ├── 1 45.0\n",
      "            │       │       └── 8!1 inf\n",
      "            │       └── 7!6 1984.0\n",
      "            └── 5!4 54.0\n",
      "\n"
     ]
    }
   ],
   "source": [
    "tree.show()"
   ]
  },
  {
   "cell_type": "code",
   "execution_count": 13,
   "metadata": {},
   "outputs": [
    {
     "data": {
      "text/plain": [
       "['1', '2', '3', '5', '4', '7', '6', '8', '1']"
      ]
     },
     "execution_count": 13,
     "metadata": {},
     "output_type": "execute_result"
    }
   ],
   "source": [
    "Path(tree)"
   ]
  },
  {
   "cell_type": "markdown",
   "metadata": {},
   "source": [
    "## From csv"
   ]
  },
  {
   "cell_type": "code",
   "execution_count": 14,
   "metadata": {},
   "outputs": [],
   "source": [
    "costs = np.genfromtxt('villes.csv', delimiter=';')\n",
    "costs = np.array(costs, dtype=float)"
   ]
  },
  {
   "cell_type": "code",
   "execution_count": 15,
   "metadata": {},
   "outputs": [],
   "source": [
    "costs = np.nan_to_num(costs, nan=np.inf)\n",
    "nodes = ['Bordeaux','Lyon','Nantes','Paris']"
   ]
  },
  {
   "cell_type": "code",
   "execution_count": 16,
   "metadata": {},
   "outputs": [
    {
     "data": {
      "text/plain": [
       "array([[ inf, 780., 320., 580.],\n",
       "       [780.,  inf, 700., 460.],\n",
       "       [320., 700.,  inf, 380.],\n",
       "       [580., 460., 380.,  inf]])"
      ]
     },
     "execution_count": 16,
     "metadata": {},
     "output_type": "execute_result"
    }
   ],
   "source": [
    "costs"
   ]
  },
  {
   "cell_type": "code",
   "execution_count": 17,
   "metadata": {},
   "outputs": [
    {
     "name": "stdout",
     "output_type": "stream",
     "text": [
      "Wall time: 2 ms\n"
     ]
    }
   ],
   "source": [
    "maxi = np.inf\n",
    "tree = Tree()\n",
    "node_id = 1\n",
    "\n",
    "%time Little(costs,0)"
   ]
  },
  {
   "cell_type": "code",
   "execution_count": 18,
   "metadata": {},
   "outputs": [
    {
     "name": "stdout",
     "output_type": "stream",
     "text": [
      "Bordeaux\n",
      "├── Bordeaux!Nantes 1820.0\n",
      "│   ├── Bordeaux!Paris 1940.0\n",
      "│   │   ├── Bordeaux!Lyon inf\n",
      "│   │   └── Lyon 1940.0\n",
      "│   │       ├── Lyon!Paris 2180.0\n",
      "│   │       └── Paris 1940.0\n",
      "│   │           ├── Nantes 1940.0\n",
      "│   │           │   ├── Bordeaux 1940.0\n",
      "│   │           │   └── Nantes!Bordeaux inf\n",
      "│   │           └── Paris!Nantes inf\n",
      "│   └── Paris 2060.0\n",
      "└── Nantes 1820.0\n",
      "    ├── Nantes!Paris 2060.0\n",
      "    └── Paris 1940.0\n",
      "        ├── Lyon 1940.0\n",
      "        │   ├── Bordeaux 1940.0\n",
      "        │   └── Lyon!Bordeaux inf\n",
      "        └── Paris!Lyon inf\n",
      "\n"
     ]
    }
   ],
   "source": [
    "tree.show()"
   ]
  },
  {
   "cell_type": "code",
   "execution_count": 19,
   "metadata": {},
   "outputs": [
    {
     "data": {
      "text/plain": [
       "['Bordeaux', 'Lyon', 'Paris', 'Nantes', 'Bordeaux']"
      ]
     },
     "execution_count": 19,
     "metadata": {},
     "output_type": "execute_result"
    }
   ],
   "source": [
    "Path(tree)"
   ]
  },
  {
   "cell_type": "markdown",
   "metadata": {},
   "source": [
    "# Integer Linear Programming"
   ]
  },
  {
   "cell_type": "code",
   "execution_count": 20,
   "metadata": {},
   "outputs": [],
   "source": [
    "from pulp import *"
   ]
  },
  {
   "cell_type": "code",
   "execution_count": 21,
   "metadata": {},
   "outputs": [],
   "source": [
    "nodes = [i for i in range(8)]"
   ]
  },
  {
   "cell_type": "code",
   "execution_count": 22,
   "metadata": {},
   "outputs": [],
   "source": [
    "maxi = 1000\n",
    "costs = np.array([[maxi,10,maxi,maxi,maxi,maxi,maxi,maxi],\n",
    "                 [10,maxi,10,25,maxi,maxi,maxi,maxi],\n",
    "                 [maxi,10,maxi,15,5,7,maxi,maxi],\n",
    "                 [maxi,25,15,maxi,5,maxi,4,maxi],\n",
    "                 [maxi,maxi,5,5,maxi,15,20,maxi],\n",
    "                 [maxi,maxi,7,maxi,15,maxi,5,6],\n",
    "                 [maxi,maxi,maxi,4,20,5,maxi,10],\n",
    "                 [0,maxi,maxi,maxi,maxi,maxi,maxi,maxi]])"
   ]
  },
  {
   "cell_type": "code",
   "execution_count": 23,
   "metadata": {},
   "outputs": [],
   "source": [
    "distances = dict(((i,j),costs[i,j]) for i in nodes for j in nodes if i!=j and costs[i,j] != maxi )"
   ]
  },
  {
   "cell_type": "code",
   "execution_count": 24,
   "metadata": {},
   "outputs": [
    {
     "data": {
      "text/plain": [
       "{(0, 1): 10,\n",
       " (1, 0): 10,\n",
       " (1, 2): 10,\n",
       " (1, 3): 25,\n",
       " (2, 1): 10,\n",
       " (2, 3): 15,\n",
       " (2, 4): 5,\n",
       " (2, 5): 7,\n",
       " (3, 1): 25,\n",
       " (3, 2): 15,\n",
       " (3, 4): 5,\n",
       " (3, 6): 4,\n",
       " (4, 2): 5,\n",
       " (4, 3): 5,\n",
       " (4, 5): 15,\n",
       " (4, 6): 20,\n",
       " (5, 2): 7,\n",
       " (5, 4): 15,\n",
       " (5, 6): 5,\n",
       " (5, 7): 6,\n",
       " (6, 3): 4,\n",
       " (6, 4): 20,\n",
       " (6, 5): 5,\n",
       " (6, 7): 10,\n",
       " (7, 0): 0}"
      ]
     },
     "execution_count": 24,
     "metadata": {},
     "output_type": "execute_result"
    }
   ],
   "source": [
    "distances"
   ]
  },
  {
   "cell_type": "code",
   "execution_count": 25,
   "metadata": {},
   "outputs": [],
   "source": [
    "prob = LpProblem('TrackmaniaSalesmanProblem', LpMinimize)"
   ]
  },
  {
   "cell_type": "code",
   "execution_count": 26,
   "metadata": {},
   "outputs": [],
   "source": [
    "x = LpVariable.dicts('x',distances, 0,1,LpBinary)"
   ]
  },
  {
   "cell_type": "code",
   "execution_count": 27,
   "metadata": {},
   "outputs": [],
   "source": [
    "#the objective\n",
    "cost = lpSum([x[(i,j)]*distances[(i,j)] for (i,j) in distances])\n",
    "prob+=cost"
   ]
  },
  {
   "cell_type": "code",
   "execution_count": 28,
   "metadata": {},
   "outputs": [],
   "source": [
    "#constraints\n",
    "for k in nodes:\n",
    "    #every site has exactly one inbound connection\n",
    "    prob+= lpSum([ x[(i,k)] for i in nodes if (i,k) in x]) ==1\n",
    "    #every site has exactly one outbound connection\n",
    "    prob+=lpSum([ x[(k,i)] for i in nodes if (k,i) in x]) ==1"
   ]
  },
  {
   "cell_type": "code",
   "execution_count": 29,
   "metadata": {},
   "outputs": [],
   "source": [
    "#we need to keep track of the order in the tour to eliminate the possibility of subtours\n",
    "u = LpVariable.dicts('u', nodes, 0, len(nodes)-1, LpInteger)"
   ]
  },
  {
   "cell_type": "code",
   "execution_count": 30,
   "metadata": {},
   "outputs": [],
   "source": [
    "#subtour elimination\n",
    "N=len(nodes)\n",
    "for i in nodes:\n",
    "    for j in nodes:\n",
    "        if i != j and (i != 0 and j!= 0) and (i,j) in x:\n",
    "            prob += u[i] - u[j] <= (N)*(1-x[(i,j)]) - 1"
   ]
  },
  {
   "cell_type": "code",
   "execution_count": 31,
   "metadata": {},
   "outputs": [
    {
     "name": "stdout",
     "output_type": "stream",
     "text": [
      "Wall time: 21 ms\n",
      "Optimal\n"
     ]
    }
   ],
   "source": [
    "%time prob.solve()\n",
    "print(LpStatus[prob.status])"
   ]
  },
  {
   "cell_type": "code",
   "execution_count": 32,
   "metadata": {},
   "outputs": [
    {
     "name": "stdout",
     "output_type": "stream",
     "text": [
      "Found optimal tour!\n",
      "1 -> 2 -> 3 -> 5 -> 4 -> 7 -> 6 -> 8 -> 1\n"
     ]
    }
   ],
   "source": [
    "#Affichage du meilleur chemin\n",
    "nodes_left = nodes.copy()\n",
    "org = 0\n",
    "tour=[]\n",
    "tour.append(nodes_left.pop( nodes_left.index(org)))\n",
    "\n",
    "while len(nodes_left) > 0:\n",
    "    \n",
    "    for k in nodes_left:\n",
    "        try :\n",
    "            if x[(org,k)].varValue ==1:\n",
    "                tour.append( nodes_left.pop( nodes_left.index(k)))\n",
    "                org=k\n",
    "                break\n",
    "        except:\n",
    "            pass\n",
    "        \n",
    "tour.append(0)\n",
    "\n",
    "tour_legs = [distances[(tour[i-1], tour[i])] for i in range(1,len(tour))]\n",
    "\n",
    "print('Found optimal tour!')\n",
    "tour_str = [str(tour[i]+1) for i in range(len(tour))]\n",
    "print(' -> '.join(tour_str))"
   ]
  },
  {
   "cell_type": "code",
   "execution_count": null,
   "metadata": {},
   "outputs": [],
   "source": []
  }
 ],
 "metadata": {
  "kernelspec": {
   "display_name": "Python 3",
   "language": "python",
   "name": "python3"
  },
  "language_info": {
   "codemirror_mode": {
    "name": "ipython",
    "version": 3
   },
   "file_extension": ".py",
   "mimetype": "text/x-python",
   "name": "python",
   "nbconvert_exporter": "python",
   "pygments_lexer": "ipython3",
   "version": "3.7.6"
  }
 },
 "nbformat": 4,
 "nbformat_minor": 4
}
